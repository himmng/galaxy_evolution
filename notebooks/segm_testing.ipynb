{
 "cells": [
  {
   "cell_type": "code",
   "execution_count": null,
   "id": "5c7d0f39",
   "metadata": {},
   "outputs": [],
   "source": [
    "try:\n",
    "    import os\n",
    "    import numpy as np\n",
    "    from astropy.io import fits\n",
    "    from scipy.ndimage import convolve\n",
    "    from astropy.coordinates import SkyCoord\n",
    "    from astropy.wcs import WCS\n",
    "    from astropy.nddata import Cutout2D\n",
    "    from astropy import units as u\n",
    "    from photutils.segmentation import SegmentationImage\n",
    "    from segm_create import *\n",
    "    import matplotlib.pyplot as plt\n",
    "\n",
    "    # Set environment variables\n",
    "    os.environ[\"OMP_NUM_THREADS\"] = \"1\"\n",
    "    \n",
    "    \n",
    "except ImportError as e:\n",
    "    print(f\"Error: {e}\") \n",
    "    \n"
   ]
  },
  {
   "cell_type": "code",
   "execution_count": null,
   "id": "75dfb9b4",
   "metadata": {},
   "outputs": [],
   "source": [
    "data_path = '/media/himanshu/MyHDD/data_galaxy_evolution/data/'  # path to HST-JWST fits images\n",
    "# loading EELGS and control galaxy samples\n",
    "catalog = data_path + 'sample_details/'\n",
    "eelgs = catalog + 'eelgs_28aug2024.dat'\n",
    "control = catalog + 'control_28aug2024.dat'"
   ]
  },
  {
   "cell_type": "code",
   "execution_count": null,
   "id": "77afacc5",
   "metadata": {},
   "outputs": [],
   "source": [
    "c0 = fits.open(data_path+'/catalog/hlsp_jades_jwst_nircam_goods-s-deep_photometry_v2.0_catalog.fits')\n",
    "c1 = fits.open(data_path+'/catalog/hlsp_jades_jwst_nirspec_goods-s-deephst_clear-prism_line-fluxes_v1.0_catalog.fits')\n",
    "c2 = fits.open(data_path+'/catalog/hlsp_jades_jwst_nirspec_goods-s-deephst_gratings_line-fluxes_v1.0_catalog.fits')\n",
    "c3 = fits.open(data_path+'/catalog/hlsp_jades_jwst_nirspec_goods-s_gratings-line-fluxes_v1.1_catalog.fits')\n",
    "c4 = fits.open(data_path+'/catalog/hlsp_jades_jwst_nirspec_goods-s_prism-line-fluxes_v1.1_catalog.fits')\n"
   ]
  },
  {
   "cell_type": "code",
   "execution_count": null,
   "id": "7b4dddc8",
   "metadata": {},
   "outputs": [],
   "source": [
    "# extracting sample data : id, ra, dec, photo_z, spec_z\n",
    "use_control = False\n",
    "if use_control == True:\n",
    "    data_columns = np.loadtxt(control, dtype='str', delimiter=',')[0]\n",
    "    sample_data  = np.loadtxt(control, delimiter=',', skiprows=1)\n",
    "else:\n",
    "    \n",
    "    data_columns = np.loadtxt(eelgs, dtype='str', delimiter=',')[0]\n",
    "    sample_data  = np.loadtxt(eelgs, delimiter=',', skiprows=1)\n",
    "    \n",
    "new_dtype = [(name, float) for name in data_columns]\n",
    "\n",
    "sample_data = np.array([tuple(row) for row in sample_data], dtype=new_dtype)\n",
    "\n",
    "ind = np.where(sample_data['zspec'] > 3.08)\n",
    "sample_data = sample_data[ind]\n",
    "\n",
    "offset = 0.3*u.arcsecond\n",
    "offset = offset.to(u.deg)\n",
    "sample_data['dec'] = sample_data['dec'] - offset.value\n"
   ]
  },
  {
   "cell_type": "code",
   "execution_count": null,
   "id": "1916b0f5",
   "metadata": {},
   "outputs": [],
   "source": [
    "def load_fits(filt0, filt1):\n",
    "    '''\n",
    "    filt0: name of the filter\n",
    "    \n",
    "    filt1: name of the filter\n",
    "    \n",
    "    returns: fits filters and weights\n",
    "    '''\n",
    "    fitsfile0     = data_path  + 'hlsp_fresco_hst_acs-wfc_goods-s_%s_v1.0_sci.fits'%filt0\n",
    "    fitsfile_wts0 = data_path  + 'hlsp_fresco_hst_acs-wfc_goods-s_%s_v1.0_wht.fits'%filt0\n",
    "    fitsfile1     = data_path  + 'hlsp_fresco_hst_wfc3-uvis_goods-s_%s_v1.0_sci.fits'%filt1\n",
    "    fitsfile_wts1 = data_path  + 'hlsp_fresco_hst_wfc3-uvis_goods-s_%s_v1.0_wht.fits'%filt1\n",
    "    \n",
    "    return fitsfile0, fitsfile_wts0, fitsfile1, fitsfile_wts1"
   ]
  },
  {
   "cell_type": "code",
   "execution_count": null,
   "id": "01ce1760",
   "metadata": {},
   "outputs": [],
   "source": [
    "filt0='f814w' # non-ionizing filter\n",
    "filt1='f336w' # ionizing filter\n",
    "fitsfile0, fitsfile_wts0, fitsfile1, fitsfile_wts1 = load_fits(filt0='f814w', filt1='f336w')"
   ]
  },
  {
   "cell_type": "code",
   "execution_count": null,
   "id": "71b63d03",
   "metadata": {},
   "outputs": [],
   "source": [
    "#loading the filters\n",
    "f0  = fits.open(fitsfile0)\n",
    "fw0 = fits.open(fitsfile_wts0)\n",
    "\n",
    "f1  = fits.open(fitsfile1)\n",
    "fw1 = fits.open(fitsfile_wts1)\n",
    "\n",
    "flux_units = f0[0].header['bunit']\n",
    "# Check if FILTER2 or FILTER is present in the header\n",
    "if 'FILTER2' in f0[0].header or 'FILTER' in f[0].header:\n",
    "    # Access the filters, defaulting to empty string if not present\n",
    "    filter2 = f0[0].header.get('FILTER2', '')\n",
    "    filter1 = f0[0].header.get('FILTER', '')\n",
    "\n",
    "    # Determine the filter that starts with 'F'\n",
    "    filt = filter2 if filter2.startswith('F') else (filter1 if filter1.startswith('F') else None)\n",
    "    \n",
    "    if filt:\n",
    "        print(f\"Selected Filter: {filt}\")\n",
    "    else:\n",
    "        print(\"No filter starts with 'F'.\")\n",
    "else:\n",
    "    print(\"Neither FILTER2 nor FILTER is present in the header.\")\n"
   ]
  },
  {
   "cell_type": "code",
   "execution_count": null,
   "id": "972f3ab4",
   "metadata": {},
   "outputs": [],
   "source": [
    "filters = f0, fw0, f1, fw1"
   ]
  },
  {
   "cell_type": "code",
   "execution_count": null,
   "id": "48143aaa",
   "metadata": {},
   "outputs": [],
   "source": [
    "peak_cutout_filt0_arr, peak_cutout_wts0_arr, peak_cutout_filt1_arr, peak_cutout_wts1_arr, err_ind = get_cutout_data_array_v2(sample_data, filters=filters, size=5, use_control=False)"
   ]
  },
  {
   "cell_type": "code",
   "execution_count": null,
   "id": "91d8b0b0",
   "metadata": {},
   "outputs": [],
   "source": [
    "# checking shape in each cutout\n",
    "for i in range(len(peak_cutout_filt0_arr)):\n",
    "    print(f\"Cutout {i}: peak_cutout_filt0_arr shape:\", peak_cutout_filt0_arr[i].shape)"
   ]
  },
  {
   "cell_type": "code",
   "execution_count": null,
   "id": "4cfa2fff",
   "metadata": {},
   "outputs": [],
   "source": [
    "# fixing the shape of bad cutouts\n",
    "# getting the data from cutouts\n",
    "img_filt0_arr, img_filt1_arr = [], []\n",
    "wts_filt0_arr, wts_filt1_arr = [], []\n",
    "\n",
    "for i in range(len(peak_cutout_filt0_arr)):\n",
    "    img_filt0_arr.append(peak_cutout_filt0_arr[i].data)\n",
    "    img_filt1_arr.append(peak_cutout_filt1_arr[i].data)\n",
    "    wts_filt0_arr.append(peak_cutout_wts0_arr[i].data )\n",
    "    wts_filt1_arr.append(peak_cutout_wts1_arr[i].data )\n",
    "    \n",
    "img_filt0_arr_20 = np.copy(img_filt0_arr[20])\n",
    "img_filt1_arr_20 = np.copy(img_filt1_arr[20])\n",
    "wts_filt0_arr_20 = np.copy(wts_filt0_arr[20])\n",
    "wts_filt1_arr_20 = np.copy(wts_filt1_arr[20])\n",
    "\n",
    "img_filt0_arr[20] = np.zeros(img_filt0_arr[0].shape)\n",
    "img_filt1_arr[20] = np.zeros(img_filt0_arr[0].shape)\n",
    "wts_filt0_arr[20] = np.zeros(img_filt0_arr[0].shape)\n",
    "wts_filt1_arr[20] = np.zeros(img_filt0_arr[0].shape)\n",
    "\n",
    "img_filt0_arr[20][:77, :125] = img_filt0_arr_20[25:, :125]\n",
    "img_filt1_arr[20][:77, :125] = img_filt1_arr_20[25:, :125]\n",
    "wts_filt0_arr[20][:77, :125] = wts_filt0_arr_20[25:, :125]\n",
    "wts_filt1_arr[20][:77, :125] = wts_filt1_arr_20[25:, :125]\n",
    "\n",
    "\n",
    "img_filt0_arr = np.where(img_filt0_arr==0, np.nan, img_filt0_arr) \n",
    "img_filt1_arr = np.where(img_filt1_arr==0, np.nan, img_filt1_arr)\n",
    "wts_filt0_arr = np.where(wts_filt0_arr==0, np.nan, wts_filt0_arr)\n",
    "wts_filt1_arr = np.where(wts_filt1_arr==0, np.nan, wts_filt1_arr)\n",
    "\n"
   ]
  },
  {
   "cell_type": "code",
   "execution_count": null,
   "id": "701a5767",
   "metadata": {},
   "outputs": [],
   "source": [
    "for i in range(len(img_filt0_arr)): #fixing the shape of bad cutouts\n",
    "    print(f\"Cutout {i}: peak_cutout_filt0_arr shape:\", img_filt0_arr[i].shape)"
   ]
  },
  {
   "cell_type": "code",
   "execution_count": null,
   "id": "0cfcac7c",
   "metadata": {},
   "outputs": [],
   "source": [
    "# plotting the cutouts\n",
    "# Define the number of rows and columns for the grid\n",
    "rows, cols = 6, 5\n",
    "\n",
    "# Create the figure and axes for the grid\n",
    "fig, axes = plt.subplots(rows, cols, figsize=(15, 15))\n",
    "\n",
    "fig.suptitle(r'$f814$', fontsize=20, fontweight='bold', y=1.01)\n",
    "# Flatten the axes array to iterate easily\n",
    "axes = axes.flatten()\n",
    "\n",
    "# Calculate global min and max for scaling\n",
    "#all_images = np.array(peak_cutout_wts0_arr)  # Assuming this is the list/array of images\n",
    "\n",
    "\n",
    "# Plot each image on the grid\n",
    "for i, ax in enumerate(axes):\n",
    "    if i < len(img_filt0_arr):\n",
    "        # Plot the image with consistent scaling\n",
    "        xpix, ypix = peak_cutout_filt0_arr[i].wcs.world_to_pixel_values(sample_data['ra'][i]*u.deg, sample_data['dec'][i]*u.deg)    \n",
    "        if i ==20:\n",
    "            ypix = ypix - 25\n",
    "        ax.imshow(np.ma.masked_equal(img_filt0_arr[i], value=0), origin='lower', cmap='viridis', vmin=-0.1, vmax=0.1)\n",
    "        ax.plot(xpix, ypix, color='black', marker='x', markersize=10,)  \n",
    "        #ax.imshow(mask_arr[i], origin='lower', alpha=0.2)\n",
    "        ax.set_title(r\"$\\rm %d$\" % i, fontsize=8)\n",
    "\n",
    "        # Disable ticks\n",
    "        ax.set_xticks([])  # Disable x-axis ticks\n",
    "        ax.set_yticks([])  # Disable y-axis ticks\n",
    "    else:\n",
    "        # Hide the empty subplots\n",
    "        ax.axis('off')  # Hide unused slots\n",
    "\n",
    "# Adjust layout to minimize space between images\n",
    "plt.tight_layout(pad=-0.1, h_pad=0.01, w_pad=0.01)\n",
    "#plt.savefig('control_gal_samples_final_f336.jpg', bbox_inches='tight', dpi=220)\n",
    "# Show the plot\n",
    "plt.show()"
   ]
  },
  {
   "cell_type": "code",
   "execution_count": null,
   "id": "54aaf496",
   "metadata": {},
   "outputs": [],
   "source": [
    "# plotting the cutouts\n",
    "# Define the number of rows and columns for the grid\n",
    "rows, cols = 6, 5\n",
    "\n",
    "# Create the figure and axes for the grid\n",
    "fig, axes = plt.subplots(rows, cols, figsize=(15, 15))\n",
    "\n",
    "fig.suptitle(r'$f336$', fontsize=20, fontweight='bold', y=1.01)\n",
    "# Flatten the axes array to iterate easily\n",
    "axes = axes.flatten()\n",
    "\n",
    "# Calculate global min and max for scaling\n",
    "#all_images = np.array(peak_cutout_wts0_arr)  # Assuming this is the list/array of images\n",
    "\n",
    "\n",
    "# Plot each image on the grid\n",
    "for i, ax in enumerate(axes):\n",
    "    if i < len(img_filt0_arr):\n",
    "        # Plot the image with consistent scaling\n",
    "        xpix, ypix = peak_cutout_filt0_arr[i].wcs.world_to_pixel_values(sample_data['ra'][i]*u.deg, sample_data['dec'][i]*u.deg)    \n",
    "        if i ==20:\n",
    "            ypix = ypix - 25\n",
    "        \n",
    "        #ax.imshow(np.ma.masked_equal(img_filt0_arr[i], value=0), origin='lower', cmap='Blues', vmin=-0.1, vmax=0.1, alpha=0.5)\n",
    "        ax.imshow(np.ma.masked_equal(img_filt1_arr[i], value=0), origin='lower', cmap='viridis', vmin=-0.1, vmax=0.1,)\n",
    "        ax.plot(xpix, ypix, color='black', marker='x', markersize=10)  \n",
    "        #ax.imshow(mask_arr[i], origin='lower', alpha=0.2)\n",
    "        ax.set_title(r\"$\\rm %d$\" % i, fontsize=8)\n",
    "\n",
    "        # Disable ticks\n",
    "        ax.set_xticks([])  # Disable x-axis ticks\n",
    "        ax.set_yticks([])  # Disable y-axis ticks\n",
    "    else:\n",
    "        # Hide the empty subplots\n",
    "        ax.axis('off')  # Hide unused slots\n",
    "\n",
    "# Adjust layout to minimize space between images\n",
    "plt.tight_layout(pad=-0.1, h_pad=0.01, w_pad=0.01)\n",
    "#plt.savefig('control_gal_samples_final_f336.jpg', bbox_inches='tight', dpi=220)\n",
    "# Show the plot\n",
    "plt.show()"
   ]
  },
  {
   "cell_type": "code",
   "execution_count": null,
   "id": "6976745f",
   "metadata": {},
   "outputs": [],
   "source": [
    "# checking for good cutouts, this checks the indicies of cutouts that are good, deleting the err_ind (error indices)\n",
    "good_ind  = np.arange(len(sample_data))\n",
    "if err_ind.size !=0:\n",
    "    good_ind  = np.delete(good_ind, err_ind)"
   ]
  },
  {
   "cell_type": "code",
   "execution_count": null,
   "id": "ce89d600",
   "metadata": {},
   "outputs": [],
   "source": [
    "# finding matching galaxies from JADEs catalog\n",
    "# these are already matched catalog stored in .npy files\n",
    "tol = 0.0003\n",
    "if use_control == True:\n",
    "    cat_indx_match = np.load('../data/cat_matching_index_tol_control_%s.npy'%tol, allow_pickle=True)\n",
    "else:\n",
    "    cat_indx_match = np.load('../data/cat_matching_index_tol_eelgs_%s.npy'%tol, allow_pickle=True)\n",
    "    \n",
    "# storing the IDs, photo_z, and spec_z of the matched galaxies with 68, 95, 99 percent cofidence intervals\n",
    "# also deleting the error indices\n",
    "if len(err_ind) != 0:\n",
    "    cat_indx_match = np.delete(cat_indx_match, err_ind, axis=0)\n",
    "catalog_ids = c0[-1].data['ID']\n",
    "phot_z      = c0[-1].data['EAZY_z_a']\n",
    "z_68l       = c0[-1].data['EAZY_l68']\n",
    "z_68u       = c0[-1].data['EAZY_u68']\n",
    "z_95l       = c0[-1].data['EAZY_l95']\n",
    "z_95u       = c0[-1].data['EAZY_u95']\n",
    "z_99l       = c0[-1].data['EAZY_l99']\n",
    "z_99u       = c0[-1].data['EAZY_u99'] \n",
    "\n",
    "# keeping photmeteric redshifts and 99% confidence intervals\n",
    "phot_zz_arr = []\n",
    "z99ll_arr = []\n",
    "for ind in range(len(good_ind)):\n",
    "    phot_zz = c0[-1].data[cat_indx_match[ind][0]]['EAZY_z_a']\n",
    "    z99ll = z_99l[cat_indx_match[ind][0]]\n",
    "    z99ul = z_99u[cat_indx_match[ind][0]]"
   ]
  },
  {
   "cell_type": "code",
   "execution_count": null,
   "id": "f34d09e0",
   "metadata": {},
   "outputs": [],
   "source": [
    "segm_deblend_arr_f0, segment_arr_f0, data_sub_arr_f0, convolved_data_arr_f0,\\\n",
    "    closest_mask_arr_f0, background_filled_arr2_f0, background_filled_arr3_f0, err_ind_f0 = get_segments_background(img_filt0_arr, box_size_=8,\\\n",
    "                                                                                                                                filt_size=7,\\\n",
    "                                                                                                                                npixels=20,\\\n",
    "                                                                                                                                nlevels=32,\\\n",
    "                                                                                                                                contrast=0.001)"
   ]
  },
  {
   "cell_type": "code",
   "execution_count": null,
   "id": "79d81c1f",
   "metadata": {},
   "outputs": [],
   "source": [
    "segm_deblend_arr_f1, segment_arr_f1, data_sub_arr_f1, convolved_data_arr_f1,\\\n",
    "    closest_mask_arr_f1, background_filled_arr2_f1, background_filled_arr3_f1, err_ind_f1 = get_segments_background(img_filt1_arr, box_size_=8,\\\n",
    "                                                                                                                                filt_size=7,\\\n",
    "                                                                                                                                npixels=20,\\\n",
    "                                                                                                                                nlevels=32,\\\n",
    "                                                                                                                                contrast=0.001)\n",
    "    \n",
    "#segm_deblend_arr_f1.insert(err_ind_f1[1], segm_deblend_arr_f0[err_ind_f1[1]])"
   ]
  },
  {
   "cell_type": "code",
   "execution_count": null,
   "id": "31c9b5d8",
   "metadata": {},
   "outputs": [],
   "source": [
    "segment_arr_f1"
   ]
  },
  {
   "cell_type": "code",
   "execution_count": null,
   "id": "a5e3e969",
   "metadata": {},
   "outputs": [],
   "source": [
    "# median background removal is creating issues so need to keep the zero mask from the initial arrays"
   ]
  },
  {
   "cell_type": "code",
   "execution_count": null,
   "id": "ed3d9c38",
   "metadata": {},
   "outputs": [],
   "source": [
    "masked_image_arr, combined_highz_mask_arr, other_segments_mask_arr = [], [], [] # this code is combining masks of similar redshifts galaxies in the cutouts (z>3.08)\n",
    "\n",
    "for ind in range(good_ind.size):\n",
    "    ra_s, dec_s = c0[2].data[cat_indx_match[ind][0]]['ra'], c0[2].data[cat_indx_match[ind][0]]['dec']    \n",
    "    coordinates_s = SkyCoord(ra=ra_s, dec=dec_s, unit=\"deg\")\n",
    "    pixel_coords_s = peak_cutout_filt0_arr[ind].wcs.world_to_pixel(coordinates_s)\n",
    "    phot_zz = c0[-1].data[cat_indx_match[ind][0]]['EAZY_z_a']\n",
    "    z99ll = z_99l[cat_indx_match[ind][0]]\n",
    "    z99ul = z_99u[cat_indx_match[ind][0]]\n",
    "    if len(phot_zz)<1:\n",
    "        ra_s, dec_s, phot_zz = [sample_data['ra'][ind]], [sample_data['dec'][ind]], [sample_data['zphot'][ind]] \n",
    "    if ind == 20:\n",
    "        dec_s = [dec_s[0] - 1*u.arcsecond.to(u.deg)]\n",
    "    masked_image, combined_highz_mask, other_segments_mask = mask_highz_galaxies(data=data_sub_arr_f0[ind], segment=segm_deblend_arr_f0[ind], wcs=peak_cutout_filt0_arr[ind].wcs,\\\n",
    "                                                                         galaxy_ra=ra_s, galaxy_dec=dec_s, galaxy_redshifts=phot_zz, z_lim=3.08) # doing for f814 filter here\n",
    "    \n",
    "    masked_image_arr       .append(masked_image)  # masked image without target galaxies\n",
    "    combined_highz_mask_arr.append(combined_highz_mask) # target mask\n",
    "    other_segments_mask_arr.append(other_segments_mask) # background mask"
   ]
  },
  {
   "cell_type": "code",
   "execution_count": null,
   "id": "74b388d0",
   "metadata": {},
   "outputs": [],
   "source": [
    "masked_image_arr        = np.delete(np.array(masked_image_arr)       , 7, axis=0)\n",
    "combined_highz_mask_arr = np.delete(np.array(combined_highz_mask_arr), 7, axis=0)\n",
    "other_segments_mask_arr = np.delete(np.array(other_segments_mask_arr), 7, axis=0)\n",
    "data_sub_arr_f0         = np.delete(np.array(data_sub_arr_f0)        , 7, axis=0)"
   ]
  },
  {
   "cell_type": "code",
   "execution_count": null,
   "id": "59502c79",
   "metadata": {},
   "outputs": [],
   "source": [
    "masked_image_arr2, combined_highz_mask_arr2, other_segments_mask_arr2 = [], [], []\n",
    "\n",
    "for ind in range(7):\n",
    "    ra_s, dec_s = c0[2].data[cat_indx_match[ind][0]]['ra'], c0[2].data[cat_indx_match[ind][0]]['dec']    \n",
    "    coordinates_s = SkyCoord(ra=ra_s, dec=dec_s, unit=\"deg\")\n",
    "    pixel_coords_s = peak_cutout_filt1_arr[ind].wcs.world_to_pixel(coordinates_s)\n",
    "    phot_zz = c0[-1].data[cat_indx_match[ind][0]]['EAZY_z_a']\n",
    "    z99ll = z_99l[cat_indx_match[ind][0]]\n",
    "    z99ul = z_99u[cat_indx_match[ind][0]]\n",
    "    if len(phot_zz)<1:\n",
    "        ra_s, dec_s, phot_zz = [sample_data['ra'][ind]], [sample_data['dec'][ind]], [sample_data['zphot'][ind]] \n",
    "    if ind == 20:\n",
    "        dec_s = [dec_s[0] - 1*u.arcsecond.to(u.deg)]\n",
    "    masked_image, combined_highz_mask, other_segments_mask = mask_highz_galaxies(data=data_sub_arr_f1[ind], segment=segm_deblend_arr_f1[ind], wcs=peak_cutout_filt0_arr[ind].wcs,\\\n",
    "                                                                         galaxy_ra=ra_s, galaxy_dec=dec_s, galaxy_redshifts=phot_zz, z_lim=3.08) # doing for f336 filter here\n",
    "    \n",
    "    masked_image_arr2       .append(masked_image)\n",
    "    combined_highz_mask_arr2.append(combined_highz_mask)\n",
    "    other_segments_mask_arr2.append(other_segments_mask)"
   ]
  },
  {
   "cell_type": "code",
   "execution_count": null,
   "id": "7b98a4cc",
   "metadata": {},
   "outputs": [],
   "source": [
    "len(combined_highz_mask_arr), len(data_sub_arr_f0), len(data_sub_arr_f1)"
   ]
  },
  {
   "cell_type": "code",
   "execution_count": null,
   "id": "0bd98988",
   "metadata": {},
   "outputs": [],
   "source": [
    "# saving the target pixels\n",
    "combined_highz_mask_arr = np.array(combined_highz_mask_arr)\n",
    "img_filt0_masked_arr = np.ma.masked_array(data_sub_arr_f0, mask=~combined_highz_mask_arr)\n",
    "img_filt1_masked_arr = np.ma.masked_array(data_sub_arr_f1, mask=~combined_highz_mask_arr)"
   ]
  },
  {
   "cell_type": "code",
   "execution_count": null,
   "id": "d87ca915",
   "metadata": {},
   "outputs": [],
   "source": [
    "plt.figure(figsize=(10,5))\n",
    "plt.subplot(121)\n",
    "plt.imshow(data_sub_arr_f1[20], origin='lower')\n",
    "plt.imshow(combined_highz_mask_arr[19], origin='lower', vmin=-0.1, vmax=0.1, alpha=0.3)\n",
    "plt.subplot(122)\n",
    "plt.imshow(np.ma.masked_less_equal(data_sub_arr_f1[20], value=0), origin='lower', cmap='viridis', vmin=0, vmax=.1)\n",
    "plt.imshow(combined_highz_mask_arr[19], origin='lower', vmin=-0.1, vmax=0.1, alpha=0.3)"
   ]
  },
  {
   "cell_type": "code",
   "execution_count": null,
   "id": "a7e7c127",
   "metadata": {},
   "outputs": [],
   "source": [
    "import scipy.ndimage as ndimage\n",
    "#plt.imshow(ndimage.gaussian_filter(data_sub_arr_f1[i], sigma=3))"
   ]
  },
  {
   "cell_type": "code",
   "execution_count": null,
   "id": "4e4932ca",
   "metadata": {},
   "outputs": [],
   "source": [
    "# zero mask from the original datasets\n",
    "zero_mask_f0 = (np.array(img_filt0_arr) == 0)\n",
    "zero_mask_f1 = (np.array(img_filt1_arr) == 0)\n",
    "\n",
    "zero_mask_comb = zero_mask_f0 + zero_mask_f1"
   ]
  },
  {
   "cell_type": "code",
   "execution_count": null,
   "id": "ad65e237",
   "metadata": {},
   "outputs": [],
   "source": [
    "# removing all sources including the target galaxies\n",
    "all_source_mask = combined_highz_mask_arr + other_segments_mask_arr + zero_mask_f0\n",
    "img_filt0_only_bg_masked_arr = np.copy(data_sub_arr_f0)\n",
    "img_filt0_only_bg_masked_arr[all_source_mask] = np.nan\n"
   ]
  },
  {
   "cell_type": "code",
   "execution_count": null,
   "id": "180b53ef",
   "metadata": {},
   "outputs": [],
   "source": [
    "# specially for F336 we need to remove the other sources from the image, so another mask will be added here\n",
    "all_source_mask_with_f1 = combined_highz_mask_arr + other_segments_mask_arr + other_segments_mask_arr2 + zero_mask_comb\n",
    "img_filt1_only_bg_masked_arr = np.copy(data_sub_arr_f1)\n",
    "img_filt1_only_bg_masked_arr[all_source_mask_with_f1] = np.nan"
   ]
  },
  {
   "cell_type": "code",
   "execution_count": null,
   "id": "a6ed7cb8",
   "metadata": {},
   "outputs": [],
   "source": [
    "## getting the backgrond images now\n",
    "\n",
    "img_filt0_bg_filled_1 = fill_masked_pixels(img_filt0_only_bg_masked_arr)\n",
    "img_filt1_bg_filled_1 = fill_masked_pixels(img_filt1_only_bg_masked_arr)\n",
    "\n",
    "# this is first round of bg filling we might need to resegment and do the process again(specially for f336)"
   ]
  },
  {
   "cell_type": "code",
   "execution_count": null,
   "id": "9e450837",
   "metadata": {},
   "outputs": [],
   "source": [
    "plt.imshow(img_filt0_arr[20], origin='lower', vmin=0.0001, vmax=0.5)\n",
    "plt.imshow(combined_highz_mask_arr[20] , origin='lower', alpha=0.1)\n",
    "#plt.colorbar()"
   ]
  },
  {
   "cell_type": "code",
   "execution_count": null,
   "id": "9bd83646",
   "metadata": {},
   "outputs": [],
   "source": [
    "# resegmenting f0, f1\n",
    "\n",
    "segm_deblend_arr_f0, segment_arr_f0, data_sub_arr_f0, convolved_data_arr_f0,\\\n",
    "    closest_mask_arr_f0, background_filled_arr2_f0, background_filled_arr3_f0, err_ind_f0 = get_segments_background(img_filt0_bg_filled_1, box_size_=4,\\\n",
    "                                                                                                                                filt_size=5,\\\n",
    "                                                                                                                                npixels=5,\\\n",
    "                                                                                                                                nlevels=32,\\\n",
    "                                                                                                                                contrast=0.0001)"
   ]
  },
  {
   "cell_type": "code",
   "execution_count": null,
   "id": "5719c59f",
   "metadata": {},
   "outputs": [],
   "source": [
    "segm_deblend_arr_f1, segment_arr_f1, data_sub_arr_f1, convolved_data_arr_f1,\\\n",
    "    closest_mask_arr_f1, background_filled_arr2_f1, background_filled_arr3_f1, err_ind_f1 = get_segments_background(img_filt1_bg_filled_1, box_size_=4,\\\n",
    "                                                                                                                                filt_size=5,\\\n",
    "                                                                                                                                npixels=5,\\\n",
    "                                                                                                                                nlevels=32,\\\n",
    "                                                                                                                                contrast=0.0001)"
   ]
  },
  {
   "cell_type": "code",
   "execution_count": null,
   "id": "42e35645",
   "metadata": {},
   "outputs": [],
   "source": [
    "def get_none_ind(data): # since the data already polished some of the images dont get any sources to segement so we need to keep those images, and work on other images\n",
    "    none_ind = []\n",
    "    for i in range(len(data)):\n",
    "        if data[i] == None:\n",
    "            none_ind.append(i)\n",
    "            \n",
    "    none_ind = np.array(none_ind).astype(int)\n",
    "    \n",
    "    return none_ind"
   ]
  },
  {
   "cell_type": "code",
   "execution_count": null,
   "id": "c7aaaa61",
   "metadata": {},
   "outputs": [],
   "source": [
    "none_ind_f0 = np.delete(np.arange(len(segment_arr_f0)), get_none_ind(data=segment_arr_f0))\n",
    "none_ind_f1 = np.delete(np.arange(len(segment_arr_f0)), get_none_ind(data=segment_arr_f1))"
   ]
  },
  {
   "cell_type": "code",
   "execution_count": null,
   "id": "7afc81d6",
   "metadata": {},
   "outputs": [],
   "source": [
    "# now filling with bg only the which are not none\n",
    "# this time we just need to fill the segment map mask pixels with background rms\n",
    "\n",
    "len(data_sub_arr_f1), len(data_sub_arr_f0)"
   ]
  },
  {
   "cell_type": "code",
   "execution_count": null,
   "id": "1da706a8",
   "metadata": {},
   "outputs": [],
   "source": [
    "def new_segment(data, none_ind):\n",
    "\n",
    "    new_seg = []\n",
    "    for i in range(len(none_ind)):\n",
    "        new_seg.append(data[none_ind[i]].data)\n",
    "    new_seg  = np.array(new_seg)\n",
    "    \n",
    "    return new_seg"
   ]
  },
  {
   "cell_type": "code",
   "execution_count": null,
   "id": "6f9bcdba",
   "metadata": {},
   "outputs": [],
   "source": [
    "segment_arr_f0 = new_segment(data=segment_arr_f0, none_ind=none_ind_f0)\n",
    "segment_arr_f1 = new_segment(data=segment_arr_f1, none_ind=none_ind_f1)\n",
    "\n",
    "segment_arr_f0 = (segment_arr_f0 >= 1)\n",
    "segment_arr_f1 = (segment_arr_f1 >= 1)"
   ]
  },
  {
   "cell_type": "code",
   "execution_count": null,
   "id": "f66201ed",
   "metadata": {},
   "outputs": [],
   "source": [
    "none_ind_f0"
   ]
  },
  {
   "cell_type": "code",
   "execution_count": null,
   "id": "2bd3d8d5",
   "metadata": {},
   "outputs": [],
   "source": [
    "full_seg_f0 = np.zeros(shape=np.array(data_sub_arr_f0).shape).astype(bool)\n",
    "full_seg_f1 = np.zeros(shape=np.array(data_sub_arr_f1).shape).astype(bool)\n",
    "\n",
    "full_seg_f0[none_ind_f0] = segment_arr_f0\n",
    "full_seg_f1[none_ind_f1] = segment_arr_f1"
   ]
  },
  {
   "cell_type": "code",
   "execution_count": null,
   "id": "27e822d7",
   "metadata": {},
   "outputs": [],
   "source": [
    "data_sub_arr_f0_2 = np.copy(data_sub_arr_f0)\n",
    "data_sub_arr_f1_2 = np.copy(data_sub_arr_f1)\n",
    "\n",
    "#data_sub_arr_f0_2 = np.ma.masked_array(data_sub_arr_f0_2, mask=full_seg_f0)\n",
    "#data_sub_arr_f1_2 = np.ma.masked_array(data_sub_arr_f1_2, mask=full_seg_f1)\n",
    "\n",
    "data_sub_arr_f0_2[full_seg_f0] = 0\n",
    "data_sub_arr_f1_2[full_seg_f1] = 0"
   ]
  },
  {
   "cell_type": "code",
   "execution_count": null,
   "id": "80dd4feb",
   "metadata": {},
   "outputs": [],
   "source": [
    "for i in range(len(data_sub_arr_f0_2)):\n",
    "    plt.imshow(np.ma.masked_equal(data_sub_arr_f1_2[i], value=0))\n",
    "    plt.show()"
   ]
  },
  {
   "cell_type": "code",
   "execution_count": null,
   "id": "941d3f71",
   "metadata": {},
   "outputs": [],
   "source": [
    "data_sub_arr_f0_2[none_ind_f0]"
   ]
  },
  {
   "cell_type": "code",
   "execution_count": null,
   "id": "040516d6",
   "metadata": {},
   "outputs": [],
   "source": [
    "\n",
    "\n",
    "\n",
    "img_filt0_bg_filled_2 = fill_masked_pixels(img_filt0_only_bg_masked_arr)\n",
    "img_filt1_bg_filled_2 = fill_masked_pixels(img_filt1_only_bg_masked_arr)"
   ]
  },
  {
   "cell_type": "code",
   "execution_count": null,
   "id": "17b6fabe",
   "metadata": {},
   "outputs": [],
   "source": [
    "for i in range(len(data_sub_arr_f0)):\n",
    "    plt.imshow(data_sub_arr_f1[i])\n",
    "    plt.show()"
   ]
  },
  {
   "cell_type": "code",
   "execution_count": null,
   "id": "b91d04da",
   "metadata": {},
   "outputs": [],
   "source": []
  },
  {
   "cell_type": "code",
   "execution_count": null,
   "id": "a461e8d4",
   "metadata": {},
   "outputs": [],
   "source": []
  },
  {
   "cell_type": "code",
   "execution_count": null,
   "id": "12dc1caf",
   "metadata": {},
   "outputs": [],
   "source": []
  },
  {
   "cell_type": "code",
   "execution_count": null,
   "id": "39835b0d",
   "metadata": {},
   "outputs": [],
   "source": []
  },
  {
   "cell_type": "code",
   "execution_count": null,
   "id": "4968f51e",
   "metadata": {},
   "outputs": [],
   "source": []
  },
  {
   "cell_type": "code",
   "execution_count": null,
   "id": "29c88f96",
   "metadata": {},
   "outputs": [],
   "source": [
    "segm_deblend_arr_f1 = np.array(segm_deblend_arr_f1)"
   ]
  },
  {
   "cell_type": "code",
   "execution_count": null,
   "id": "644fecfd",
   "metadata": {},
   "outputs": [],
   "source": [
    "img_bg_filt0_arr, img_filt0_arr = process_images_with_masks(\n",
    "    data_arrays=data_sub_arr_f0,\n",
    "    source_masks=combined_highz_mask_arr,\n",
    "    background_masks=other_segments_mask_arr,\n",
    "    good_indices=good_ind,\n",
    "    fill_masked_function=fill_masked_with_noise2, filt=False)\n",
    "\n",
    "img_bg_filt1_arr, img_filt1_arr = process_images_with_masks(\n",
    "    data_arrays=data_sub_arr_f1,\n",
    "    source_masks=combined_highz_mask_arr,\n",
    "    background_masks=other_segments_mask_arr,\n",
    "    good_indices=good_ind,\n",
    "    fill_masked_function=fill_masked_with_noise2, filt=False)"
   ]
  },
  {
   "cell_type": "code",
   "execution_count": null,
   "id": "52b4e625",
   "metadata": {},
   "outputs": [],
   "source": [
    "# plotting the cutouts\n",
    "# Define the number of rows and columns for the grid\n",
    "rows, cols = 6, 5\n",
    "\n",
    "# Create the figure and axes for the grid\n",
    "fig, axes = plt.subplots(rows, cols, figsize=(15, 15))\n",
    "\n",
    "fig.suptitle(r'$f814~with ~source mask$', fontsize=20, fontweight='bold', y=1.01)\n",
    "# Flatten the axes array to iterate easily\n",
    "axes = axes.flatten()\n",
    "\n",
    "# Calculate global min and max for scaling\n",
    "#all_images = np.array(peak_cutout_wts0_arr)  # Assuming this is the list/array of images\n",
    "\n",
    "\n",
    "# Plot each image on the grid\n",
    "for i, ax in enumerate(axes):\n",
    "    if i < len(img_filt0_arr):\n",
    "        # Plot the image with consistent scaling\n",
    "        xpix, ypix = peak_cutout_filt1_arr[i].wcs.world_to_pixel_values(sample_data['ra'][i]*u.deg, sample_data['dec'][i]*u.deg)    \n",
    "        if i ==20:\n",
    "            ypix = ypix - 25\n",
    "        #ax.imshow(img_filt1_arr2[i], origin='lower', cmap='viridis', vmin=-0.1, vmax=0.1) \n",
    "        ax.imshow(img_filt1_arr[i], origin='lower', vmin=-0.1, vmax=0.1)\n",
    "        #ax.plot(xpix, ypix, color='black', marker='x', markersize=10,) \n",
    "        ax.set_title(r\"$\\rm %d$\" % i, fontsize=8)\n",
    "\n",
    "        # Disable ticks\n",
    "        ax.set_xticks([])  # Disable x-axis ticks\n",
    "        ax.set_yticks([])  # Disable y-axis ticks\n",
    "    else:\n",
    "        # Hide the empty subplots\n",
    "        ax.axis('off')  # Hide unused slots\n",
    "\n",
    "# Adjust layout to minimize space between images\n",
    "plt.tight_layout(pad=-0.1, h_pad=0.01, w_pad=0.01)\n",
    "#plt.savefig('control_gal_samples_final_f336.jpg', bbox_inches='tight', dpi=220)\n",
    "# Show the plot\n",
    "plt.show()"
   ]
  },
  {
   "cell_type": "code",
   "execution_count": null,
   "id": "f1192ce2",
   "metadata": {},
   "outputs": [],
   "source": [
    "img_filt0_arr[20] = np.zeros_like(img_filt0_arr[0])\n",
    "img_filt1_arr[20] = np.zeros_like(img_filt0_arr[0])\n",
    "wts_filt0_arr[20] = np.zeros_like(img_filt0_arr[0])\n",
    "wts_filt1_arr[20]"
   ]
  },
  {
   "cell_type": "code",
   "execution_count": null,
   "id": "94345e7e",
   "metadata": {},
   "outputs": [],
   "source": [
    "# for eelgs\n",
    "mask_arr_                  = get_cleaned_data(arr=combined_highz_mask_arr , arr_ind=good_ind)\n",
    "img_filt0_arr_             = get_cleaned_data(arr=img_filt0_arr,            arr_ind=good_ind)\n",
    "img_filt1_arr_             = get_cleaned_data(arr=img_filt1_arr,            arr_ind=good_ind)\n",
    "img_bg_filt0_arr_          = get_cleaned_data(arr=img_bg_filt0_arr,         arr_ind=good_ind)\n",
    "img_bg_filt1_arr_          = get_cleaned_data(arr=img_bg_filt1_arr,         arr_ind=good_ind)\n",
    "wts_filt0_arr_             = get_cleaned_data(arr=wts_filt0_arr,            arr_ind=good_ind)\n",
    "wts_filt1_arr_             = get_cleaned_data(arr=wts_filt1_arr,            arr_ind=good_ind)\n",
    "wcs_filt0_arr_             = get_cleaned_data(arr=peak_cutout_filt0_arr,    arr_ind=good_ind)\n",
    "wcs_filt1_arr_             = get_cleaned_data(arr=peak_cutout_filt1_arr,    arr_ind=good_ind)"
   ]
  },
  {
   "cell_type": "code",
   "execution_count": null,
   "id": "b2c7e45f",
   "metadata": {},
   "outputs": [],
   "source": [
    "round_=1\n",
    "np.save('/media/himanshu/MyHDD/data_galaxy_evolution/process_data/mask_arr_'                 + 'eelgs', mask_arr_           ,)\n",
    "np.save('/media/himanshu/MyHDD/data_galaxy_evolution/process_data/good_index'                + 'eelgs', good_ind            ,)\n",
    "np.save('/media/himanshu/MyHDD/data_galaxy_evolution/process_data/wcs_filt0_arr_'            + 'eelgs', wcs_filt0_arr_      ,)\n",
    "np.save('/media/himanshu/MyHDD/data_galaxy_evolution/process_data/wcs_filt1_arr_'            + 'eelgs', wcs_filt1_arr_      ,)\n",
    "np.save('/media/himanshu/MyHDD/data_galaxy_evolution/process_data/img_bg_filt0_arr_'         + 'eelgs', img_bg_filt0_arr_   ,)\n",
    "np.save('/media/himanshu/MyHDD/data_galaxy_evolution/process_data/img_bg_filt1_arr_'         + 'eelgs', img_bg_filt1_arr_   ,)\n",
    "np.save('/media/himanshu/MyHDD/data_galaxy_evolution/process_data/img_filt0_arr_'            + 'eelgs', img_filt0_arr_      ,)\n",
    "np.save('/media/himanshu/MyHDD/data_galaxy_evolution/process_data/img_filt1_arr_'            + 'eelgs', img_filt1_arr_      ,)\n",
    "np.save('/media/himanshu/MyHDD/data_galaxy_evolution/process_data/wts_filt0_arr_'            + 'eelgs', wts_filt0_arr_      ,)\n",
    "np.save('/media/himanshu/MyHDD/data_galaxy_evolution/process_data/wts_filt1_arr_'            + 'eelgs', wts_filt1_arr_      ,)"
   ]
  },
  {
   "cell_type": "code",
   "execution_count": null,
   "id": "b9488541",
   "metadata": {},
   "outputs": [],
   "source": []
  }
 ],
 "metadata": {
  "kernelspec": {
   "display_name": "Python 3",
   "language": "python",
   "name": "python3"
  },
  "language_info": {
   "codemirror_mode": {
    "name": "ipython",
    "version": 3
   },
   "file_extension": ".py",
   "mimetype": "text/x-python",
   "name": "python",
   "nbconvert_exporter": "python",
   "pygments_lexer": "ipython3",
   "version": "3.12.3"
  }
 },
 "nbformat": 4,
 "nbformat_minor": 5
}
